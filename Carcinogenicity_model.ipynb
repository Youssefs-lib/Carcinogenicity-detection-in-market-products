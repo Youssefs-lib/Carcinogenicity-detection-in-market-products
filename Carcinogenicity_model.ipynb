{
 "cells": [
  {
   "cell_type": "markdown",
   "id": "904e1366",
   "metadata": {},
   "source": [
    "# Loading the dataset and defining the modeluclar descriptor calculating function"
   ]
  },
  {
   "cell_type": "code",
   "execution_count": 62,
   "id": "244d2bb3",
   "metadata": {},
   "outputs": [],
   "source": [
    "# import pandas as pd\n",
    "from rdkit import Chem\n",
    "from rdkit.Chem import Descriptors\n",
    "\n",
    "# Load your dataset\n",
    "df = pd.read_excel('x5.xlsx')\n",
    "\n",
    "# Function to calculate molecular descriptors\n",
    "def calculate_descriptors(SMILES):\n",
    "    mol = Chem.MolFromSmiles(SMILES)\n",
    "    if mol is not None:\n",
    "        descriptors = [Descriptors.MolWt(mol), Descriptors.HeavyAtomCount(mol)]\n",
    "        return descriptors\n",
    "    else:\n",
    "        return [None, None]  # Handle cases where the SMILES cannot be converted to a molecule\n",
    "\n",
    "# Apply the function to your dataset\n",
    "df[['MolecularWeight', 'NumHeavyAtoms']] = df['SMILES'].apply(calculate_descriptors).apply(pd.Series)\n",
    "\n",
    "# Display the first few rows of the updated dataset\n",
    "#print(\"First few rows of the dataset with molecular descriptors:\")\n",
    "#print(df.head(10))\n"
   ]
  },
  {
   "cell_type": "markdown",
   "id": "f60203b2",
   "metadata": {},
   "source": [
    "# Obtaining the features from the SMILES Column in the dataset"
   ]
  },
  {
   "cell_type": "code",
   "execution_count": 63,
   "id": "3a7e031d",
   "metadata": {},
   "outputs": [],
   "source": [
    "from rdkit import Chem\n",
    "from rdkit.Chem import Descriptors\n",
    "\n",
    "# Sample function to calculate molecular descriptors\n",
    "def calculate_descriptors(smiles):\n",
    "    mol = Chem.MolFromSmiles(smiles)\n",
    "    if mol is not None:\n",
    "        descriptors = [Descriptors.MolWt(mol), Descriptors.HeavyAtomCount(mol)]\n",
    "        return descriptors\n",
    "    return [None, None]  # Handle cases where the SMILES cannot be converted to a molecule\n",
    "\n",
    "# Apply the function to your dataset\n",
    "df[['MolecularWeight', 'NumHeavyAtoms']] = df['SMILES'].apply(calculate_descriptors).apply(pd.Series)\n",
    "\n"
   ]
  },
  {
   "cell_type": "code",
   "execution_count": 64,
   "id": "22b219fa",
   "metadata": {
    "scrolled": true
   },
   "outputs": [
    {
     "name": "stdout",
     "output_type": "stream",
     "text": [
      "Columns with missing values:\n",
      "Index([], dtype='object')\n",
      "Missing values after cleaning:\n",
      "index                        0\n",
      "DTXSID                       0\n",
      "PREFERRED_NAME               0\n",
      "CASRN                        0\n",
      "INCHIKEY                     0\n",
      "IUPAC_NAME                   0\n",
      "SMILES                       0\n",
      "INCHI_STRING                 0\n",
      "MOLECULAR_FORMULA            0\n",
      "AVERAGE_MASS                 0\n",
      "MONOISOTOPIC_MASS            0\n",
      "DATA_SOURCES                 0\n",
      "NUMBER_OF_PUBMED_ARTICLES    0\n",
      "PUBCHEM_DATA_SOURCES         0\n",
      "CPDAT_COUNT                  0\n",
      "prob_tox21                   0\n",
      "class_tox21                  0\n",
      "MolecularWeight              0\n",
      "NumHeavyAtoms                0\n",
      "dtype: int64\n"
     ]
    }
   ],
   "source": [
    "# Check for missing values\n",
    "missing_values = df.isnull().sum()\n",
    "\n",
    "# Display columns with missing values\n",
    "columns_with_missing_values = missing_values[missing_values > 0].index\n",
    "print(\"Columns with missing values:\")\n",
    "print(columns_with_missing_values)\n",
    "\n",
    "# Handle missing values (if any)\n",
    "# For simplicity, you can drop rows with missing values\n",
    "df_cleaned = df.dropna()\n",
    "\n",
    "# Verify if missing values are handled\n",
    "print(\"Missing values after cleaning:\")\n",
    "print(df_cleaned.isnull().sum())\n"
   ]
  },
  {
   "cell_type": "markdown",
   "id": "7d9fdba9",
   "metadata": {},
   "source": [
    "# Performing the data split into training, validation and test sets "
   ]
  },
  {
   "cell_type": "code",
   "execution_count": 65,
   "id": "d8f866d9",
   "metadata": {},
   "outputs": [
    {
     "name": "stdout",
     "output_type": "stream",
     "text": [
      "Shapes of the sets:\n",
      "Training set: (3588, 3) (3588,)\n",
      "Validation set: (897, 3) (897,)\n",
      "Test set: (1495, 3) (1495,)\n"
     ]
    }
   ],
   "source": [
    "from sklearn.model_selection import train_test_split\n",
    "from sklearn.preprocessing import LabelEncoder\n",
    "label_encoder = LabelEncoder()\n",
    "df_cleaned['PREFERRED_NAME'] = label_encoder.fit_transform(df['PREFERRED_NAME'])\n",
    "\n",
    "# Define features (X) and target variable (y)\n",
    "X = df_cleaned[['PREFERRED_NAME','MolecularWeight', 'NumHeavyAtoms']] \n",
    "y = df_cleaned['class_tox21']\n",
    "\n",
    "\n",
    "\n",
    "\n",
    "\n",
    "# Split the data into training (80%) and test (20%) sets\n",
    "X_train, X_test, y_train, y_test = train_test_split(X, y, test_size=0.25, random_state=42)\n",
    "\n",
    "# Further split the training data into training (80%) and validation (20%) sets\n",
    "X_train, X_val, y_train, y_val = train_test_split(X_train, y_train, test_size=0.20, random_state=42)\n",
    "\n",
    "# Display the shapes of the resulting sets\n",
    "print(\"Shapes of the sets:\")\n",
    "print(\"Training set:\", X_train.shape, y_train.shape)\n",
    "print(\"Validation set:\", X_val.shape, y_val.shape)\n",
    "print(\"Test set:\", X_test.shape, y_test.shape)\n"
   ]
  },
  {
   "cell_type": "markdown",
   "id": "45e1f44c",
   "metadata": {},
   "source": [
    "# Training the our multi layer perceptron"
   ]
  },
  {
   "cell_type": "code",
   "execution_count": 66,
   "id": "89a27b75",
   "metadata": {
    "scrolled": false
   },
   "outputs": [
    {
     "name": "stdout",
     "output_type": "stream",
     "text": [
      "Shapes of the sets:\n",
      "Training set: (3588, 3) (3588,)\n",
      "Validation set: (897, 3) (897,)\n",
      "Test set: (1495, 3) (1495,)\n",
      "Model: \"sequential_1\"\n",
      "_________________________________________________________________\n",
      " Layer (type)                Output Shape              Param #   \n",
      "=================================================================\n",
      " dense_6 (Dense)             (None, 32)                128       \n",
      "                                                                 \n",
      " dropout_1 (Dropout)         (None, 32)                0         \n",
      "                                                                 \n",
      " dense_7 (Dense)             (None, 128)               4224      \n",
      "                                                                 \n",
      " dense_8 (Dense)             (None, 64)                8256      \n",
      "                                                                 \n",
      " dense_9 (Dense)             (None, 32)                2080      \n",
      "                                                                 \n",
      " dense_10 (Dense)            (None, 16)                528       \n",
      "                                                                 \n",
      " dense_11 (Dense)            (None, 1)                 17        \n",
      "                                                                 \n",
      "=================================================================\n",
      "Total params: 15233 (59.50 KB)\n",
      "Trainable params: 15233 (59.50 KB)\n",
      "Non-trainable params: 0 (0.00 Byte)\n",
      "_________________________________________________________________\n",
      "Epoch 1/30\n",
      "113/113 [==============================] - 1s 3ms/step - loss: 5.2559 - accuracy: 0.7177 - val_loss: 0.4812 - val_accuracy: 0.7960\n",
      "Epoch 2/30\n",
      "113/113 [==============================] - 0s 2ms/step - loss: 1.9586 - accuracy: 0.7230 - val_loss: 0.7905 - val_accuracy: 0.8027\n",
      "Epoch 3/30\n",
      "113/113 [==============================] - 0s 2ms/step - loss: 1.1803 - accuracy: 0.7428 - val_loss: 0.5299 - val_accuracy: 0.8027\n",
      "Epoch 4/30\n",
      "113/113 [==============================] - 0s 2ms/step - loss: 0.6976 - accuracy: 0.7592 - val_loss: 0.5014 - val_accuracy: 0.8060\n",
      "Epoch 5/30\n",
      "113/113 [==============================] - 0s 2ms/step - loss: 0.5829 - accuracy: 0.7712 - val_loss: 0.5176 - val_accuracy: 0.8049\n",
      "Epoch 6/30\n",
      "113/113 [==============================] - 0s 2ms/step - loss: 0.5526 - accuracy: 0.7787 - val_loss: 0.4540 - val_accuracy: 0.8027\n",
      "Epoch 7/30\n",
      "113/113 [==============================] - 0s 2ms/step - loss: 0.5170 - accuracy: 0.7829 - val_loss: 0.4893 - val_accuracy: 0.8038\n",
      "Epoch 8/30\n",
      "113/113 [==============================] - 0s 2ms/step - loss: 0.5117 - accuracy: 0.7896 - val_loss: 0.4294 - val_accuracy: 0.8027\n",
      "Epoch 9/30\n",
      "113/113 [==============================] - 0s 2ms/step - loss: 0.4803 - accuracy: 0.7943 - val_loss: 0.4628 - val_accuracy: 0.8027\n",
      "Epoch 10/30\n",
      "113/113 [==============================] - 0s 2ms/step - loss: 0.4694 - accuracy: 0.8021 - val_loss: 0.7381 - val_accuracy: 0.4682\n",
      "Epoch 11/30\n",
      "113/113 [==============================] - 0s 2ms/step - loss: 0.4870 - accuracy: 0.7935 - val_loss: 0.4214 - val_accuracy: 0.8027\n",
      "Epoch 12/30\n",
      "113/113 [==============================] - 0s 2ms/step - loss: 0.4560 - accuracy: 0.7985 - val_loss: 0.4086 - val_accuracy: 0.8027\n",
      "Epoch 13/30\n",
      "113/113 [==============================] - 0s 2ms/step - loss: 0.4400 - accuracy: 0.8024 - val_loss: 0.3980 - val_accuracy: 0.8027\n",
      "Epoch 14/30\n",
      "113/113 [==============================] - 0s 2ms/step - loss: 0.4461 - accuracy: 0.8041 - val_loss: 0.3989 - val_accuracy: 0.8027\n",
      "Epoch 15/30\n",
      "113/113 [==============================] - 0s 2ms/step - loss: 0.4423 - accuracy: 0.8024 - val_loss: 0.4272 - val_accuracy: 0.8038\n",
      "Epoch 16/30\n",
      "113/113 [==============================] - 0s 2ms/step - loss: 0.4318 - accuracy: 0.8038 - val_loss: 0.4010 - val_accuracy: 0.8027\n",
      "Epoch 17/30\n",
      "113/113 [==============================] - 0s 2ms/step - loss: 0.4283 - accuracy: 0.8032 - val_loss: 0.3905 - val_accuracy: 0.8027\n",
      "Epoch 18/30\n",
      "113/113 [==============================] - 0s 2ms/step - loss: 0.4469 - accuracy: 0.8021 - val_loss: 0.4192 - val_accuracy: 0.8038\n",
      "Epoch 19/30\n",
      "113/113 [==============================] - 0s 2ms/step - loss: 0.4249 - accuracy: 0.8080 - val_loss: 0.3918 - val_accuracy: 0.8038\n",
      "Epoch 20/30\n",
      "113/113 [==============================] - 0s 2ms/step - loss: 0.4271 - accuracy: 0.8052 - val_loss: 0.4927 - val_accuracy: 0.7815\n",
      "Epoch 21/30\n",
      "113/113 [==============================] - 0s 2ms/step - loss: 0.4078 - accuracy: 0.8091 - val_loss: 0.3931 - val_accuracy: 0.8038\n",
      "Epoch 22/30\n",
      "113/113 [==============================] - 0s 2ms/step - loss: 0.4194 - accuracy: 0.8046 - val_loss: 0.3877 - val_accuracy: 0.8038\n",
      "Epoch 23/30\n",
      "113/113 [==============================] - 0s 2ms/step - loss: 0.4232 - accuracy: 0.8035 - val_loss: 0.4104 - val_accuracy: 0.8094\n",
      "Epoch 24/30\n",
      "113/113 [==============================] - 0s 2ms/step - loss: 0.4086 - accuracy: 0.8041 - val_loss: 0.3784 - val_accuracy: 0.8038\n",
      "Epoch 25/30\n",
      "113/113 [==============================] - 0s 2ms/step - loss: 0.4102 - accuracy: 0.8069 - val_loss: 0.3819 - val_accuracy: 0.8038\n",
      "Epoch 26/30\n",
      "113/113 [==============================] - 0s 2ms/step - loss: 0.4125 - accuracy: 0.8085 - val_loss: 0.4056 - val_accuracy: 0.8149\n",
      "Epoch 27/30\n",
      "113/113 [==============================] - 0s 2ms/step - loss: 0.4102 - accuracy: 0.8105 - val_loss: 0.3924 - val_accuracy: 0.8094\n",
      "Epoch 28/30\n",
      "113/113 [==============================] - 0s 2ms/step - loss: 0.4133 - accuracy: 0.8049 - val_loss: 0.4881 - val_accuracy: 0.7402\n",
      "Epoch 29/30\n",
      "113/113 [==============================] - 0s 2ms/step - loss: 0.4090 - accuracy: 0.8057 - val_loss: 0.3796 - val_accuracy: 0.8105\n",
      "Epoch 30/30\n",
      "113/113 [==============================] - 0s 2ms/step - loss: 0.4065 - accuracy: 0.8063 - val_loss: 0.3984 - val_accuracy: 0.8172\n",
      "47/47 [==============================] - 0s 1ms/step - loss: 0.3918 - accuracy: 0.8247\n",
      "Test Accuracy: 0.8247491717338562\n"
     ]
    }
   ],
   "source": [
    "import pandas as pd\n",
    "from rdkit import Chem\n",
    "from rdkit.Chem import Descriptors\n",
    "from sklearn.preprocessing import LabelEncoder\n",
    "from tensorflow.keras.layers import Dropout\n",
    "\n",
    "\n",
    "# Load your dataset\n",
    "df = pd.read_excel('x5.xlsx')\n",
    "\n",
    "\n",
    "\n",
    "# Apply the function to your dataset\n",
    "df[['MolecularWeight', 'NumHeavyAtoms']] = df['SMILES'].apply(calculate_descriptors).apply(pd.Series)\n",
    "\n",
    "# Display the first few rows of the updated dataset\n",
    "#print(\"First few rows of the dataset with molecular descriptors:\")\n",
    "#print(df.head(10))\n",
    "from sklearn.model_selection import train_test_split\n",
    "\n",
    "\n",
    "label_encoder = LabelEncoder()\n",
    "df_cleaned['PREFERRED_NAME'] = label_encoder.fit_transform(df['PREFERRED_NAME'])\n",
    "\n",
    "# Define features (X) and target variable (y)\n",
    "X = df_cleaned[['PREFERRED_NAME','MolecularWeight', 'NumHeavyAtoms']] \n",
    "y = df_cleaned['class_tox21']\n",
    "\n",
    "\n",
    "\n",
    "\n",
    "\n",
    "# Split the data into training (80%) and test (20%) sets\n",
    "#X_train, X_test, y_train, y_test = train_test_split(X, y, test_size=0.1, random_state=32)\n",
    "\n",
    "\n",
    "\n",
    "# Display the shapes of the resulting sets\n",
    "print(\"Shapes of the sets:\")\n",
    "print(\"Training set:\", X_train.shape, y_train.shape)\n",
    "print(\"Validation set:\", X_val.shape, y_val.shape)\n",
    "print(\"Test set:\", X_test.shape, y_test.shape)\n",
    "from tensorflow.keras.models import Sequential\n",
    "from tensorflow.keras.layers import Dense, LeakyReLU\n",
    "from tensorflow.keras.optimizers import Adam\n",
    "\n",
    "# Create a sequential model\n",
    "model = Sequential()\n",
    "\n",
    "# Add input layer with the number of features in your input data\n",
    "model.add(Dense(32, activation=LeakyReLU(alpha=0.01), input_dim=X_train.shape[1]))\n",
    "model.add(Dropout(0.5))\n",
    "\n",
    "# Add hidden layers\n",
    "model.add(Dense(128, activation=LeakyReLU(alpha=0.01)))\n",
    "model.add(Dense(64, activation=LeakyReLU(alpha=0.01)))\n",
    "model.add(Dense(32, activation=LeakyReLU(alpha=0.01)))\n",
    "model.add(Dense(16, activation=LeakyReLU(alpha=0.01)))\n",
    "\n",
    "# Add output layer with sigmoid activation for binary classification\n",
    "model.add(Dense(1, activation='sigmoid'))\n",
    "############################################################\n",
    "from tensorflow.keras.layers import BatchNormalization\n",
    "\n",
    "#model.add(BatchNormalization())\n",
    "##########################################################\n",
    "\n",
    "# Compile the model\n",
    "model.compile(optimizer=Adam(learning_rate=0.001), loss='binary_crossentropy', metrics=['accuracy'])\n",
    "\n",
    "# Display the model summary\n",
    "model.summary()\n",
    "# Train the model\n",
    "history = model.fit(X_train, y_train, epochs=30, batch_size=32, validation_data=(X_val, y_val))\n",
    "# Evaluate the model on the test set\n",
    "test_loss, test_accuracy = model.evaluate(X_test, y_test)\n",
    "print(\"Test Accuracy:\", test_accuracy)\n"
   ]
  },
  {
   "cell_type": "code",
   "execution_count": 68,
   "id": "f5fdd459",
   "metadata": {},
   "outputs": [
    {
     "name": "stdout",
     "output_type": "stream",
     "text": [
      "47/47 [==============================] - 0s 994us/step\n",
      "Test Accuracy: 0.8247491717338562\n",
      "Precision: 0.43312101910828027\n",
      "F1 Score: 0.5874730021598273\n"
     ]
    }
   ],
   "source": [
    "from sklearn.metrics import precision_score, f1_score\n",
    "\n",
    "\n",
    "y_pred = model.predict(X_test)\n",
    "\n",
    "# Convert the predicted probabilities to class labels\n",
    "y_pred_labels = (y_pred > 0.3).astype(int)\n",
    "\n",
    "# Calculate precision and F1 score\n",
    "precision = precision_score(y_test, y_pred_labels)\n",
    "f1 = f1_score(y_test, y_pred_labels)\n",
    "\n",
    "# Print test accuracy, precision, and F1 score\n",
    "print(\"Test Accuracy:\", test_accuracy)\n",
    "print(\"Precision:\", precision)\n",
    "print(\"F1 Score:\", f1)\n",
    "\n",
    "\n"
   ]
  },
  {
   "cell_type": "code",
   "execution_count": 69,
   "id": "cd085271",
   "metadata": {},
   "outputs": [],
   "source": [
    "from tensorflow.keras.models import load_model\n",
    "import tensorflow as tf\n",
    "from tensorflow.keras.models import load_model\n",
    "# Save the model in native Keras format\n",
    "model.save('Carcpred5.keras')\n",
    "\n",
    "\n"
   ]
  },
  {
   "cell_type": "markdown",
   "id": "b6252840",
   "metadata": {},
   "source": [
    "# Applying the model and testing datasets containing some suspicious chemicals of certain market products"
   ]
  },
  {
   "cell_type": "code",
   "execution_count": 70,
   "id": "d5a576c8",
   "metadata": {},
   "outputs": [
    {
     "name": "stdout",
     "output_type": "stream",
     "text": [
      "1/1 [==============================] - 0s 70ms/step\n",
      "                   NAME  MolecularWeight  NumHeavyAtoms  Predictions\n",
      "0          maltodextrin          342.297           23.0     0.016553\n",
      "1    disodium inosinate          392.172           25.0     0.008090\n",
      "2  monosodium glutamate          169.112           11.0     0.166234\n",
      "3    disodium guanylate          407.187           26.0     0.006506\n",
      "4         monoglyceride          120.104            8.0     0.285066\n",
      "5           diglyceride          176.124           12.0     0.149478\n",
      "6               LACTOSE          342.297           23.0     0.016079\n",
      "7              DEXTROSE          180.156           12.0     0.139956\n",
      "8            MALIC ACID          134.087            9.0     0.240810\n"
     ]
    }
   ],
   "source": [
    "import pandas as pd\n",
    "from rdkit import Chem\n",
    "from rdkit.Chem import Descriptors\n",
    "from sklearn.preprocessing import LabelEncoder\n",
    "from tensorflow.keras.models import load_model\n",
    "\n",
    "# Load the saved model\n",
    "loaded_model = load_model('Carcpred5.keras')\n",
    "\n",
    "# Assuming you have new data in the form of a DataFrame 'df2'\n",
    "df2 = pd.read_excel('vape.xlsx')\n",
    "\n",
    "# Check if 'SMILES' column exists in the DataFrame\n",
    "if 'SMILES' in df2.columns:\n",
    "    # Check and handle missing or non-string values in the 'SMILES' column\n",
    "   \n",
    "\n",
    "    # Preprocess the new data similarly to how you preprocessed your training data\n",
    "    df2[['MolecularWeight', 'NumHeavyAtoms']] = df2['SMILES'].apply(calculate_descriptors).apply(pd.Series)\n",
    "\n",
    "    # Encode the 'NAME' column\n",
    "    label_encoder = LabelEncoder()\n",
    "    df2['NAME2'] = label_encoder.fit_transform(df2['NAME'])\n",
    "\n",
    "    # Define features for making predictions\n",
    "    X_new_data = df2[['NAME2', 'MolecularWeight', 'NumHeavyAtoms']]\n",
    "\n",
    "    # Use the loaded model to get predicted probabilities\n",
    "    predicted_probabilities = loaded_model.predict(X_new_data)\n",
    "\n",
    "    # Round the predicted probabilities to obtain binary class labels (0 or 1)\n",
    "    predictions = predicted_probabilities\n",
    "\n",
    "    # Create a new column for predictions in the DataFrame\n",
    "    df2['Predictions'] = predictions\n",
    "\n",
    "    # Display the DataFrame with predictions\n",
    "    print(df2[['NAME', 'MolecularWeight', 'NumHeavyAtoms', 'Predictions']])\n",
    "else:\n",
    "    print(\"SMILES column not found in the DataFrame.\")\n",
    "\n",
    "\n",
    "\n",
    "\n"
   ]
  },
  {
   "cell_type": "code",
   "execution_count": 71,
   "id": "dd4c1906",
   "metadata": {},
   "outputs": [
    {
     "name": "stdout",
     "output_type": "stream",
     "text": [
      "1/1 [==============================] - 0s 20ms/step\n",
      "                   NAME  MolecularWeight  NumHeavyAtoms Predictions\n",
      "0          maltodextrin          342.297           23.0        Safe\n",
      "1    disodium inosinate          392.172           25.0        Safe\n",
      "2  monosodium glutamate          169.112           11.0        Safe\n",
      "3    disodium guanylate          407.187           26.0        Safe\n",
      "4         monoglyceride          120.104            8.0        Safe\n",
      "5           diglyceride          176.124           12.0        Safe\n",
      "6               LACTOSE          342.297           23.0        Safe\n",
      "7              DEXTROSE          180.156           12.0        Safe\n",
      "8            MALIC ACID          134.087            9.0        Safe\n"
     ]
    }
   ],
   "source": [
    "# Check if 'SMILES' column exists in df2\n",
    "if 'SMILES' in df2.columns:\n",
    "    # You need to preprocess the new data similarly to how you preprocessed your training data\n",
    "    df2[['MolecularWeight', 'NumHeavyAtoms']] = df2['SMILES'].apply(calculate_descriptors).apply(pd.Series)\n",
    "    \n",
    "    # Encode the 'PREFERRED_NAME' column\n",
    "    label_encoder = LabelEncoder()\n",
    "    df2['NAME2'] = label_encoder.fit_transform(df2['NAME'])\n",
    "\n",
    "    # Define features for making predictions\n",
    "    X_new_data = df2[['NAME2', 'MolecularWeight', 'NumHeavyAtoms']]\n",
    "\n",
    "    # Use the loaded model to get prediction probabilities\n",
    "    predictions = loaded_model.predict(X_new_data)[:, 0]  # Use [:, 0] instead of [:, 1]\n",
    "\n",
    "    # Assign labels based on prediction probabilities\n",
    "    df2['Predictions'] = pd.cut(predictions, bins=[-float('inf'), 0.30, 0.5, float('inf')], labels=['Safe', 'Likely Carcinogenic', 'Carcinogenic'], include_lowest=True)\n",
    "\n",
    "    # Display the DataFrame with predictions\n",
    "    print(df2[['NAME', 'MolecularWeight', 'NumHeavyAtoms', 'Predictions']])\n",
    "else:\n",
    "    print(\"SMILES column not found in the DataFrame.\")\n",
    "\n"
   ]
  },
  {
   "cell_type": "code",
   "execution_count": 72,
   "id": "82539f0f",
   "metadata": {},
   "outputs": [
    {
     "data": {
      "image/png": "[encoded data removed]",
      "text/plain": [
       "<Figure size 1000x600 with 1 Axes>"
      ]
     },
     "metadata": {},
     "output_type": "display_data"
    }
   ],
   "source": [
    "import matplotlib.pyplot as plt\n",
    "\n",
    "\n",
    "df2['NAME'].fillna('Unknown', inplace=True)\n",
    "\n",
    "\n",
    "plt.figure(figsize=(10, 6))\n",
    "colors = {'Safe': 'green', 'Likely Carcinogenic': 'yellow', 'Carcinogenic': 'red'}\n",
    "df2['Color'] = df2['Predictions'].map(colors)\n",
    "plt.bar(df2['NAME'], df2['NumHeavyAtoms'], color=df2['Color'])\n",
    "plt.title('Pringles chips')\n",
    "plt.xlabel('Chemical Name')\n",
    "plt.ylabel('Number of Heavy Atoms')\n",
    "plt.xticks(rotation=45, ha='right')\n",
    "plt.show()\n",
    "\n"
   ]
  },
  {
   "cell_type": "code",
   "execution_count": 74,
   "id": "2778bf6f",
   "metadata": {},
   "outputs": [
    {
     "name": "stdout",
     "output_type": "stream",
     "text": [
      "47/47 [==============================] - 0s 931us/step\n",
      "Optimal Threshold for Maximum F1 Score: 0.36366037\n"
     ]
    }
   ],
   "source": [
    "import numpy as np\n",
    "from sklearn.metrics import precision_recall_curve\n",
    "from sklearn.metrics import f1_score\n",
    "\n",
    "# Assuming 'model' is your trained model and 'X_test', 'y_test' are your test set\n",
    "# Make predictions on the test set\n",
    "y_pred = model.predict(X_test)\n",
    "\n",
    "# Calculate precision and recall\n",
    "precision, recall, thresholds = precision_recall_curve(y_test, y_pred)\n",
    "\n",
    "# Calculate F1 scores for each threshold\n",
    "f1_scores = 2 * (precision * recall) / (precision + recall)\n",
    "\n",
    "# Find the optimal threshold that maximizes F1 score\n",
    "optimal_threshold = thresholds[np.argmax(f1_scores)]\n",
    "\n",
    "# Print the optimal threshold\n",
    "print(\"Optimal Threshold for Maximum F1 Score:\", optimal_threshold)\n"
   ]
  },
  {
   "cell_type": "code",
   "execution_count": 75,
   "id": "3b0a6255",
   "metadata": {},
   "outputs": [
    {
     "name": "stdout",
     "output_type": "stream",
     "text": [
      "47/47 [==============================] - 0s 915us/step\n"
     ]
    },
    {
     "data": {
      "image/png": "[encoded data removed]",
      "text/plain": [
       "<Figure size 640x480 with 1 Axes>"
      ]
     },
     "metadata": {},
     "output_type": "display_data"
    }
   ],
   "source": [
    "import matplotlib.pyplot as plt\n",
    "from sklearn.metrics import precision_recall_curve\n",
    "\n",
    "# Assuming 'model' is your trained model and 'X_test', 'y_test' are your test set\n",
    "# Make predictions on the test set\n",
    "y_pred = model.predict(X_test)\n",
    "\n",
    "# Calculate precision and recall\n",
    "precision, recall, thresholds = precision_recall_curve(y_test, y_pred)\n",
    "\n",
    "# Plot the precision-recall curve\n",
    "plt.plot(recall, precision, color='darkorange', lw=2, label='Precision-Recall curve')\n",
    "plt.xlabel('Recall')\n",
    "plt.ylabel('Precision')\n",
    "plt.title('Precision-Recall Curve')\n",
    "plt.legend(loc='upper right')\n",
    "plt.show()\n"
   ]
  },
  {
   "cell_type": "code",
   "execution_count": 77,
   "id": "3a7ac63f",
   "metadata": {},
   "outputs": [
    {
     "name": "stdout",
     "output_type": "stream",
     "text": [
      "47/47 [==============================] - 0s 1ms/step\n",
      "Threshold: 0.30, Precision: 0.43, Recall: 0.91, F1 Score: 0.59\n",
      "Threshold: 0.55, Precision: 1.00, Recall: 0.01, F1 Score: 0.01\n",
      "Threshold: 0.60, Precision: 0.00, Recall: 0.00, F1 Score: 0.00\n",
      "Threshold: 0.65, Precision: 0.00, Recall: 0.00, F1 Score: 0.00\n",
      "Threshold: 0.70, Precision: 0.00, Recall: 0.00, F1 Score: 0.00\n"
     ]
    },
    {
     "name": "stderr",
     "output_type": "stream",
     "text": [
      "C:\\Users\\huski\\anaconda3\\lib\\site-packages\\sklearn\\metrics\\_classification.py:1344: UndefinedMetricWarning: Precision is ill-defined and being set to 0.0 due to no predicted samples. Use `zero_division` parameter to control this behavior.\n",
      "  _warn_prf(average, modifier, msg_start, len(result))\n",
      "C:\\Users\\huski\\anaconda3\\lib\\site-packages\\sklearn\\metrics\\_classification.py:1344: UndefinedMetricWarning: Precision is ill-defined and being set to 0.0 due to no predicted samples. Use `zero_division` parameter to control this behavior.\n",
      "  _warn_prf(average, modifier, msg_start, len(result))\n",
      "C:\\Users\\huski\\anaconda3\\lib\\site-packages\\sklearn\\metrics\\_classification.py:1344: UndefinedMetricWarning: Precision is ill-defined and being set to 0.0 due to no predicted samples. Use `zero_division` parameter to control this behavior.\n",
      "  _warn_prf(average, modifier, msg_start, len(result))\n"
     ]
    }
   ],
   "source": [
    "from sklearn.metrics import precision_score, recall_score, f1_score\n",
    "\n",
    "# Assuming 'model' is your trained model and 'X_test', 'y_test' are your test set\n",
    "# Make predictions on the test set\n",
    "y_pred = model.predict(X_test)\n",
    "\n",
    "# Iterate over different threshold values\n",
    "for threshold in [0.3, 0.55, 0.6, 0.65, 0.7]:\n",
    "    y_pred_labels = (y_pred > threshold).astype(int)\n",
    "    precision = precision_score(y_test, y_pred_labels)\n",
    "    recall = recall_score(y_test, y_pred_labels)\n",
    "    f1 = f1_score(y_test, y_pred_labels)\n",
    "    print(f\"Threshold: {threshold:.2f}, Precision: {precision:.2f}, Recall: {recall:.2f}, F1 Score: {f1:.2f}\")\n"
   ]
  },
  {
   "cell_type": "code",
   "execution_count": 50,
   "id": "68e3427a",
   "metadata": {},
   "outputs": [
    {
     "name": "stdout",
     "output_type": "stream",
     "text": [
      "The SMILES expression for MALIC ACID is: C(C(C(=O)O)O)C(=O)O\n"
     ]
    }
   ],
   "source": [
    "import pubchempy as pcp\n",
    "\n",
    "def get_smiles(chemical_name):\n",
    "    try:\n",
    "        compound = pcp.get_compounds(chemical_name, 'name', record_type='2d')[0]\n",
    "        smiles = compound.to_dict(properties=['canonical_smiles'])['canonical_smiles']\n",
    "        return smiles\n",
    "    except Exception as e:\n",
    "        print(f\"Error: {e}\")\n",
    "        return None\n",
    "\n",
    "\n",
    "chemical_name = '-'\n",
    "smiles_expression = get_smiles(chemical_name)\n",
    "\n",
    "if smiles_expression:\n",
    "    print(f\"The SMILES expression for {chemical_name} is: {smiles_expression}\")\n",
    "else:\n",
    "    print(f\"Could not find SMILES expression for {chemical_name}\")\n",
    "\n"
   ]
  },
  {
   "cell_type": "code",
   "execution_count": null,
   "id": "eb733e50",
   "metadata": {},
   "outputs": [],
   "source": [
    "\n",
    "\n"
   ]
  },
  {
   "cell_type": "code",
   "execution_count": null,
   "id": "ea7f26d5",
   "metadata": {},
   "outputs": [],
   "source": []
  },
  {
   "cell_type": "code",
   "execution_count": null,
   "id": "37c4e2c7",
   "metadata": {},
   "outputs": [],
   "source": []
  }
 ],
 "metadata": {
  "kernelspec": {
   "display_name": "Python 3 (ipykernel)",
   "language": "python",
   "name": "python3"
  },
  "language_info": {
   "codemirror_mode": {
    "name": "ipython",
    "version": 3
   },
   "file_extension": ".py",
   "mimetype": "text/x-python",
   "name": "python",
   "nbconvert_exporter": "python",
   "pygments_lexer": "ipython3",
   "version": "3.10.9"
  }
 },
 "nbformat": 4,
 "nbformat_minor": 5
}
